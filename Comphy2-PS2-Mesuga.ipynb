{
 "cells": [
  {
   "cell_type": "markdown",
   "metadata": {},
   "source": [
    "<h3>Computational Physics 2</h3>\n",
    "<p>Reymond R. Mesuga</p>"
   ]
  },
  {
   "cell_type": "markdown",
   "metadata": {},
   "source": [
    "<h3>Monte Carlo Integration</h3>"
   ]
  },
  {
   "cell_type": "code",
   "execution_count": 1,
   "metadata": {},
   "outputs": [],
   "source": [
    "%matplotlib inline\n",
    "from scipy import random\n",
    "import numpy as np\n",
    "import matplotlib.pyplot as plt"
   ]
  },
  {
   "cell_type": "markdown",
   "metadata": {},
   "source": [
    "<h3>Problem 1</h3>"
   ]
  },
  {
   "cell_type": "markdown",
   "metadata": {},
   "source": [
    "<p>When N = 100</p>"
   ]
  },
  {
   "cell_type": "code",
   "execution_count": 2,
   "metadata": {},
   "outputs": [
    {
     "data": {
      "text/plain": [
       "4.5312401312764745"
      ]
     },
     "execution_count": 2,
     "metadata": {},
     "output_type": "execute_result"
    }
   ],
   "source": [
    "a = 1\n",
    "b = 2\n",
    "N = 100\n",
    "xrand = np.zeros(N)\n",
    "\n",
    "for i in range(len(xrand)):\n",
    "    xrand[i] = random.uniform(a,b)\n",
    "def func(x):\n",
    "    return np.exp(x)\n",
    "integral = 0.0\n",
    "\n",
    "for i in range(N):\n",
    "    integral += func(xrand[i])\n",
    "\n",
    "answer = (b-a)/float(N)*integral\n",
    "answer"
   ]
  },
  {
   "cell_type": "markdown",
   "metadata": {},
   "source": [
    "<p>When N = 500</p>"
   ]
  },
  {
   "cell_type": "code",
   "execution_count": 3,
   "metadata": {},
   "outputs": [
    {
     "data": {
      "text/plain": [
       "4.741867063478121"
      ]
     },
     "execution_count": 3,
     "metadata": {},
     "output_type": "execute_result"
    }
   ],
   "source": [
    "N = 500\n",
    "xrand = np.zeros(N)\n",
    "\n",
    "for i in range(len(xrand)):\n",
    "    xrand[i] = random.uniform(a,b)\n",
    "def func(x):\n",
    "    return np.exp(x)\n",
    "integral = 0.0\n",
    "\n",
    "for i in range(N):\n",
    "    integral += func(xrand[i])\n",
    "\n",
    "answer = (b-a)/float(N)*integral\n",
    "answer"
   ]
  },
  {
   "cell_type": "markdown",
   "metadata": {},
   "source": [
    "<p>When N = 1000</p>"
   ]
  },
  {
   "cell_type": "code",
   "execution_count": 4,
   "metadata": {},
   "outputs": [
    {
     "data": {
      "text/plain": [
       "4.7143157103642315"
      ]
     },
     "execution_count": 4,
     "metadata": {},
     "output_type": "execute_result"
    }
   ],
   "source": [
    "N = 1000\n",
    "xrand = np.zeros(N)\n",
    "\n",
    "for i in range(len(xrand)):\n",
    "    xrand[i] = random.uniform(a,b)\n",
    "def func(x):\n",
    "    return np.exp(x)\n",
    "integral = 0.0\n",
    "\n",
    "for i in range(N):\n",
    "    integral += func(xrand[i])\n",
    "\n",
    "answer = (b-a)/float(N)*integral\n",
    "answer"
   ]
  },
  {
   "cell_type": "markdown",
   "metadata": {},
   "source": [
    "<h3>Problem 2</h3>"
   ]
  },
  {
   "cell_type": "markdown",
   "metadata": {},
   "source": [
    "<p>When N = 100</p>"
   ]
  },
  {
   "cell_type": "code",
   "execution_count": 12,
   "metadata": {},
   "outputs": [
    {
     "data": {
      "text/plain": [
       "11.611004394969791"
      ]
     },
     "execution_count": 12,
     "metadata": {},
     "output_type": "execute_result"
    }
   ],
   "source": [
    "x0 = 1\n",
    "x1 = 2\n",
    "y0 = 1\n",
    "y1 = 2\n",
    "n = 100\n",
    "x = np.random.uniform(x0, x1, n)\n",
    "y = np.random.uniform(y0, y1, n)\n",
    "def f(x,y):\n",
    "    return np.exp(x*y)\n",
    "def g(x,y):\n",
    "    return(np.exp(x*y) if (1 <= x <= 2 and 1 <= y <= 2) else -np.exp(x*y))\n",
    "\n",
    "f_mean = 0\n",
    "num_inside = 0\n",
    "for i in range(len(x)):\n",
    "    for j in range(len(y)):\n",
    "        if g(x[i], y[j]) >= 0:\n",
    "            num_inside += 1\n",
    "            f_mean += f(x[i], y[j])\n",
    "f_mean = f_mean/float(num_inside)\n",
    "area = num_inside/float(n**2)*(x1 - x0)*(y1 - y0)\n",
    "area*f_mean"
   ]
  },
  {
   "cell_type": "markdown",
   "metadata": {},
   "source": [
    "<p>When N = 500</p>"
   ]
  },
  {
   "cell_type": "code",
   "execution_count": 7,
   "metadata": {},
   "outputs": [
    {
     "data": {
      "text/plain": [
       "11.79730697636514"
      ]
     },
     "execution_count": 7,
     "metadata": {},
     "output_type": "execute_result"
    }
   ],
   "source": [
    "x0 = 1\n",
    "x1 = 2\n",
    "y0 = 1\n",
    "y1 = 2\n",
    "n = 500\n",
    "x = np.random.uniform(x0, x1, n)\n",
    "y = np.random.uniform(y0, y1, n)\n",
    "def f(x,y):\n",
    "    return np.exp(x*y)\n",
    "def g(x,y):\n",
    "    return(np.exp(x*y) if (1 <= x <= 2 and 1 <= y <= 2) else -np.exp(x*y))\n",
    "\n",
    "f_mean = 0\n",
    "num_inside = 0\n",
    "for i in range(len(x)):\n",
    "    for j in range(len(y)):\n",
    "        if g(x[i], y[j]) >= 0:\n",
    "            num_inside += 1\n",
    "            f_mean += f(x[i], y[j])\n",
    "f_mean = f_mean/float(num_inside)\n",
    "area = num_inside/float(n**2)*(x1 - x0)*(y1 - y0)\n",
    "area*f_mean"
   ]
  },
  {
   "cell_type": "markdown",
   "metadata": {},
   "source": [
    "<p>When N = 1000</p>"
   ]
  },
  {
   "cell_type": "code",
   "execution_count": 15,
   "metadata": {},
   "outputs": [
    {
     "data": {
      "text/plain": [
       "11.765375410696716"
      ]
     },
     "execution_count": 15,
     "metadata": {},
     "output_type": "execute_result"
    }
   ],
   "source": [
    "x0 = 1\n",
    "x1 = 2\n",
    "y0 = 1\n",
    "y1 = 2\n",
    "n = 1000\n",
    "x = np.random.uniform(x0, x1, n)\n",
    "y = np.random.uniform(y0, y1, n)\n",
    "def f(x,y):\n",
    "    return np.exp(x*y)\n",
    "def g(x,y):\n",
    "    return(np.exp(x*y) if (1 <= x <= 2 and 1 <= y <= 2) else -np.exp(x*y))\n",
    "\n",
    "f_mean = 0\n",
    "num_inside = 0\n",
    "for i in range(len(x)):\n",
    "    for j in range(len(y)):\n",
    "        if g(x[i], y[j]) >= 0:\n",
    "            num_inside += 1\n",
    "            f_mean += f(x[i], y[j])\n",
    "f_mean = f_mean/float(num_inside)\n",
    "area = num_inside/float(n**2)*(x1 - x0)*(y1 - y0)\n",
    "area*f_mean"
   ]
  },
  {
   "cell_type": "markdown",
   "metadata": {},
   "source": [
    "<h3>Conclusion</h3>\n",
    "<p>In problem 1, the theoretical value matches the approximated value solved by monte carlo integration method. At N=100, the random value range from 4 to 5 with corresponding decimals. At N=500 and N=1000, the range of random values sticks within approximately 4.7 with corresponding decimals. In problem 2, at N=100, the random value given by monte carlo method gives 11 to 12 with corresponding decimals. At N=500 and N=1000, the random value sticks within approxiamtely 11.7 with corresponding decimals. Overall, it is observed that random value solve by monte carlo integration become consistent as the value of N increases.</p>"
   ]
  }
 ],
 "metadata": {
  "kernelspec": {
   "display_name": "Python 3",
   "language": "python",
   "name": "python3"
  },
  "language_info": {
   "codemirror_mode": {
    "name": "ipython",
    "version": 3
   },
   "file_extension": ".py",
   "mimetype": "text/x-python",
   "name": "python",
   "nbconvert_exporter": "python",
   "pygments_lexer": "ipython3",
   "version": "3.7.6"
  }
 },
 "nbformat": 4,
 "nbformat_minor": 4
}
