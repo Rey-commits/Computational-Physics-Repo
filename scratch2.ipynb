{
 "cells": [
  {
   "cell_type": "code",
   "execution_count": 1,
   "metadata": {},
   "outputs": [],
   "source": [
    "# From Runge-Kutta Method\n",
    "import numpy as np\n",
    "import matplotlib.pyplot as plt\n",
    "\n",
    "g = 9.81\n",
    "c = 1\n",
    "m = 1\n",
    "a = 0\n",
    "b = 10\n",
    "n = 50\n",
    "h1 = (b-a)/n\n",
    "r = 3\n",
    "\n",
    "t = [0]\n",
    "for i in range(0,n):\n",
    "    t.append(t[i] + h1)\n",
    "t = list(np.around(np.array(t),r))\n",
    "\n",
    "# velocity as needed for problem\n",
    "v = [20]\n",
    "for i in range(0,n):\n",
    "    h = h1\n",
    "    F1 = h*(g - (c/m)*(v[i]))\n",
    "    F2 = h*(g - (c/m)*(v[i] + F1/2))\n",
    "    F3 = h*(g - (c/m)*(v[i] + F2/2))\n",
    "    F4 = h*(g - (c/m)*(v[i] + F3))\n",
    "    v.append(v[i] + (F1 + 2*F2 + 2*F3 + F4)/6)\n",
    "v = list(np.around(np.array(v),r))\n",
    "# print(\"v(t) from Runge-Kutta:\")\n",
    "# plt.plot(t,v)\n",
    "# print(v) \n",
    "# print(t)"
   ]
  },
  {
   "cell_type": "code",
   "execution_count": 2,
   "metadata": {},
   "outputs": [
    {
     "name": "stdout",
     "output_type": "stream",
     "text": [
      "v(t) = [20, 18.153, 16.641, 15.402, 14.389, 13.559, 12.879, 12.323, 11.867, 11.494, 11.189, 10.939, 10.734, 10.567, 10.43, 10.317, 10.225, 10.15, 10.088, 10.038, 9.997, 9.963, 9.935, 9.912, 9.894, 9.879, 9.866, 9.856, 9.848, 9.841, 9.835, 9.831, 9.827, 9.824, 9.821, 9.819, 9.818, 9.816, 9.815, 9.814, 9.813, 9.813, 9.812, 9.812, 9.812, 9.811, 9.811, 9.811, 9.811, 9.811, 9.81, 9.81]\n",
      "t = [0, 0.2, 0.4, 0.6, 0.8, 1.0, 1.2, 1.4, 1.6, 1.8, 2.0, 2.2, 2.4, 2.6, 2.8, 3.0, 3.2, 3.4, 3.6, 3.8, 4.0, 4.2, 4.4, 4.6, 4.8, 5.0, 5.2, 5.4, 5.6, 5.8, 6.0, 6.2, 6.4, 6.6, 6.8, 7.0, 7.2, 7.4, 7.6, 7.8, 8.0, 8.2, 8.4, 8.6, 8.8, 9.0, 9.2, 9.4, 9.6, 9.8, 10.0, 10.0]\n"
     ]
    },
    {
     "data": {
      "text/plain": [
       "[<matplotlib.lines.Line2D at 0x7fe8c4ca94d0>]"
      ]
     },
     "execution_count": 2,
     "metadata": {},
     "output_type": "execute_result"
    },
    {
     "data": {
      "image/png": "[encoded data removed]",
      "text/plain": [
       "<Figure size 432x288 with 1 Axes>"
      ]
     },
     "metadata": {
      "needs_background": "light"
     },
     "output_type": "display_data"
    }
   ],
   "source": [
    "# Applying the Predictor-Comparison Method\n",
    "f = lambda t,v: (g-(c/m)*v)\n",
    "time = [0]\n",
    "v1 = [20]\n",
    "for i in range(4,n):\n",
    "    t0 = a+i*h1\n",
    "    part1 = 55.0*f(t[4],v[4])-59*f(t[3],v[3])+37.0*f(t[2],v[2])\n",
    "    part2 = -9.0*f(t[1],v[1])\n",
    "    w0 = v[4]+h1*(part1+part2)/24.0\n",
    "    part1 = 9.0*f(t0,w0)+19.0*f(t[4],v[4])-5.0*f(t[3],v[3])+f(t[2],v[2])\n",
    "    w0 = v[4]+h1*(part1)/24.0\n",
    "    for j in range(0,n):\n",
    "        t[j] = t[j+1]\n",
    "        v[j] = v[j+1]\n",
    "    break\n",
    "    t[4] = t0\n",
    "    v[4] = w0\n",
    "v1 = v1 + v\n",
    "time = time + t\n",
    "print(\"v(t) =\", v1)\n",
    "print(\"t =\", time)\n",
    "plt.plot(time,v1)\n"
   ]
  },
  {
   "cell_type": "code",
   "execution_count": 3,
   "metadata": {},
   "outputs": [],
   "source": [
    "# From Runge-Kutta Method\n",
    "#velocity needed to solve for y-values\n",
    "v2 = [20]\n",
    "for i in range(0,2*n+2):\n",
    "    h = h1/2\n",
    "    F_1 = h*(g - (c/m)*(v1[i]))\n",
    "    F_2 = h*(g - (c/m)*(v1[i] + F_1/2))\n",
    "    F_3 = h*(g - (c/m)*(v1[i] + F_2/2))\n",
    "    F_4 = h*(g - (c/m)*(v1[i] + F3))\n",
    "    v1.append(v1[i] + (F_1 + 2*F_2 + 2*F_3 + F_4)/6)\n",
    "v2 = list(np.around(np.array(v1),r))\n",
    "# print(v2)"
   ]
  },
  {
   "cell_type": "code",
   "execution_count": 4,
   "metadata": {},
   "outputs": [
    {
     "name": "stdout",
     "output_type": "stream",
     "text": [
      "y = [0.0, 1.821, 3.365, 4.723, 5.957, 7.108, 8.202, 9.26, 10.292, 11.307, 12.311, 13.307, 14.298, 15.286, 16.272, 17.256, 18.239, 19.222, 20.204, 21.185, 22.167, 23.148, 24.129, 25.11, 26.091, 27.072, 28.207, 29.946, 31.436, 32.758, 33.967, 35.101, 36.185, 37.235, 38.262, 39.274, 40.276, 41.271, 42.261, 43.248, 44.233, 45.217, 46.2, 47.182, 48.164, 49.146, 50.127, 51.108, 52.09, 53.071, 54.052]\n"
     ]
    }
   ],
   "source": [
    "# From Runge-Kutta Method\n",
    "# y-values needed for problem\n",
    "y = [0]\n",
    "for i in range(0,n):\n",
    "    F = []\n",
    "    for j in range(0,2*n,2):\n",
    "        h1 = h1\n",
    "        f1 = h*(v2[j])\n",
    "        f2 = h*(v2[j+1])\n",
    "        f4 = h*(v2[j+2])\n",
    "        F.append((f1 + 4*f2 + f4)/6)\n",
    "    y.append(y[i] + F[i])\n",
    "y = list(np.around(np.array(y),r))\n",
    "print(\"y =\", y)"
   ]
  },
  {
   "cell_type": "code",
   "execution_count": null,
   "metadata": {},
   "outputs": [],
   "source": []
  }
 ],
 "metadata": {
  "kernelspec": {
   "display_name": "Python 3",
   "language": "python",
   "name": "python3"
  },
  "language_info": {
   "codemirror_mode": {
    "name": "ipython",
    "version": 3
   },
   "file_extension": ".py",
   "mimetype": "text/x-python",
   "name": "python",
   "nbconvert_exporter": "python",
   "pygments_lexer": "ipython3",
   "version": "3.7.6"
  }
 },
 "nbformat": 4,
 "nbformat_minor": 4
}
