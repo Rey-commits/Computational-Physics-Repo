{
 "cells": [
  {
   "cell_type": "code",
   "execution_count": 1,
   "metadata": {},
   "outputs": [],
   "source": [
    "import numpy as np\n",
    "import matplotlib.pyplot as plt\n",
    "\n",
    "g = 9.81\n",
    "c = 1\n",
    "m = 1\n",
    "a = 0\n",
    "b = 10\n",
    "n = 50\n",
    "h1 = (b-a)/n\n",
    "r = 3\n",
    "\n",
    "t = [0]\n",
    "for i in range(0,n):\n",
    "    t.append(t[i] + h1)\n",
    "t = list(np.around(np.array(t),r))\n",
    "\n",
    "# velocity as needed for problem\n",
    "v = [20]\n",
    "for i in range(0,n):\n",
    "    h = h1\n",
    "    F1 = h*(g - (c/m)*(v[i]))\n",
    "    F2 = h*(g - (c/m)*(v[i] + F1/2))\n",
    "    F3 = h*(g - (c/m)*(v[i] + F2/2))\n",
    "    F4 = h*(g - (c/m)*(v[i] + F3))\n",
    "    v.append(v[i] + (F1 + 2*F2 + 2*F3 + F4)/6)\n",
    "# v = list(np.around(np.array(v),r))\n",
    "# print(\"v(t) from Runge-Kutta:\")\n",
    "# plt.plot(t,v)\n",
    "# print(v) \n",
    "# print(t)"
   ]
  },
  {
   "cell_type": "code",
   "execution_count": 2,
   "metadata": {},
   "outputs": [
    {
     "name": "stdout",
     "output_type": "stream",
     "text": [
      "[0.0, 0.4, 0.6, 0.8, 1.0, 1.2, 1.4, 1.6, 1.8, 2.0, 2.2, 2.4, 2.6, 2.8, 3.0, 3.2, 3.4, 3.6, 3.8, 4.0, 4.2, 4.4, 4.6, 4.8, 5.0, 5.2, 5.4, 5.6, 5.8, 6.0, 6.2, 6.4, 6.6, 6.8, 7.0, 7.2, 7.4, 7.6, 7.8, 8.0, 8.2, 8.4, 8.6, 8.8, 9.0, 9.2, 9.4, 9.6, 9.8, 10.0, 10.0]\n",
      "[20, 16.640604322622224, 15.402443445741568, 14.388719863810147, 13.558750576496827, 12.879227055330503, 12.322878497767594, 11.867377388738921, 11.494443447406846, 11.189109998506899, 10.939123326110881, 10.734450904531181, 10.56687877056983, 10.429681878757872, 10.317354210201696, 10.225387803699135, 10.150091841148605, 10.088444526743068, 10.037971815528774, 9.996648124433925, 9.962815041078203, 9.935114767965427, 9.912435631025561, 9.89386746564166, 9.878665089703016, 9.866218397776183, 9.856027876205953, 9.847684556512354, 9.840853602568547, 9.835260872876288, 9.830681918652914, 9.82693297619843, 9.823863592046195, 9.821350584927954, 9.819293102233347, 9.817608572568515, 9.81622939198093, 9.815100210861186, 9.81417571263908, 9.813418795128037, 9.81279908153116, 9.81229170135228, 9.811876292287156, 9.811536183038571, 9.81125772425978, 9.811029740775624, 9.810843083097696, 9.810690260234853, 9.810565139062948, 9.810462698188804, 9.810462698188804]\n"
     ]
    },
    {
     "data": {
      "text/plain": [
       "[<matplotlib.lines.Line2D at 0x7f2a781dba90>]"
      ]
     },
     "execution_count": 2,
     "metadata": {},
     "output_type": "execute_result"
    },
    {
     "data": {
      "image/png": "[encoded data removed]",
      "text/plain": [
       "<Figure size 432x288 with 1 Axes>"
      ]
     },
     "metadata": {
      "needs_background": "light"
     },
     "output_type": "display_data"
    }
   ],
   "source": [
    "f = lambda t,v: (g-(c/m)*v)\n",
    "a = 0\n",
    "b = 10\n",
    "n = 50\n",
    "# alpha = 20\n",
    "# t[0] = a\n",
    "\n",
    "for i in range(4,n):\n",
    "    t0 = a+i*h1\n",
    "    part1 = 55.0*f(t[4],v[4])-59*f(t[3],v[3])+37.0*f(t[2],v[2])\n",
    "    part2 = -9.0*f(t[1],v[1])\n",
    "    w0 = v[4]+h1*(part1+part2)/24.0\n",
    "    part1 = 9.0*f(t0,w0)+19.0*f(t[4],v[4])-5.0*f(t[3],v[3])+f(t[2],v[2])\n",
    "    w0 = v[4]+h1*(part1)/24.0\n",
    "    for j in range(1,n):\n",
    "        t[j] = t[j+1]\n",
    "        v[j] = v[j+1]\n",
    "    break\n",
    "    t[4] = t0\n",
    "    v[4] = w0\n",
    "print(t)\n",
    "print(v)\n",
    "plt.plot(t,v)\n"
   ]
  },
  {
   "cell_type": "code",
   "execution_count": null,
   "metadata": {},
   "outputs": [],
   "source": []
  },
  {
   "cell_type": "code",
   "execution_count": null,
   "metadata": {},
   "outputs": [],
   "source": []
  }
 ],
 "metadata": {
  "kernelspec": {
   "display_name": "Python 3",
   "language": "python",
   "name": "python3"
  },
  "language_info": {
   "codemirror_mode": {
    "name": "ipython",
    "version": 3
   },
   "file_extension": ".py",
   "mimetype": "text/x-python",
   "name": "python",
   "nbconvert_exporter": "python",
   "pygments_lexer": "ipython3",
   "version": "3.7.6"
  }
 },
 "nbformat": 4,
 "nbformat_minor": 4
}
