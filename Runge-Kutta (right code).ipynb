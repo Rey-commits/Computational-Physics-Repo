{
 "cells": [
  {
   "cell_type": "code",
   "execution_count": 8,
   "metadata": {},
   "outputs": [
    {
     "name": "stdout",
     "output_type": "stream",
     "text": [
      "[20.0, 18.153, 16.641, 15.402, 14.389, 13.559, 12.879, 12.323, 11.867, 11.494, 11.189, 10.939, 10.734, 10.567, 10.43, 10.317, 10.225, 10.15, 10.088, 10.038, 9.997, 9.963, 9.935, 9.912, 9.894, 9.879, 9.866, 9.856, 9.848, 9.841, 9.835, 9.831, 9.827, 9.824, 9.821, 9.819, 9.818, 9.816, 9.815, 9.814, 9.813, 9.813, 9.812, 9.812, 9.812, 9.811, 9.811, 9.811, 9.811, 9.811, 9.81]\n"
     ]
    }
   ],
   "source": [
    "import numpy as np\n",
    "import matplotlib.pyplot as plt\n",
    "\n",
    "g = 9.81\n",
    "c = 1\n",
    "m = 1\n",
    "a = 0\n",
    "b = 10\n",
    "n = 50\n",
    "h1 = (b-a)/n\n",
    "r = 3\n",
    "\n",
    "t = [0]\n",
    "for i in range(0,n):\n",
    "    t.append(t[i] + h1)\n",
    "t = list(np.around(np.array(t),r))\n",
    "\n",
    "# velocity as needed for problem\n",
    "v = [20]\n",
    "for i in range(0,n):\n",
    "    h = h1\n",
    "    F1 = h*(g - (c/m)*(v[i]))\n",
    "    F2 = h*(g - (c/m)*(v[i] + F1/2))\n",
    "    F3 = h*(g - (c/m)*(v[i] + F2/2))\n",
    "    F4 = h*(g - (c/m)*(v[i] + F3))\n",
    "    v.append(v[i] + (F1 + 2*F2 + 2*F3 + F4)/6)\n",
    "v = list(np.around(np.array(v),r))\n",
    "print(v) "
   ]
  },
  {
   "cell_type": "code",
   "execution_count": 9,
   "metadata": {},
   "outputs": [
    {
     "name": "stdout",
     "output_type": "stream",
     "text": [
      "[20.0, 19.014, 18.124, 17.319, 16.593, 15.937, 15.344, 14.808, 14.325, 13.888, 13.493, 13.137, 12.815, 12.524, 12.262, 12.025, 11.81, 11.617, 11.442, 11.284, 11.141, 11.013, 10.896, 10.791, 10.696, 10.611, 10.533, 10.463, 10.4, 10.343, 10.291, 10.245, 10.203, 10.165, 10.13, 10.099, 10.071, 10.046, 10.023, 10.003, 9.984, 9.967, 9.952, 9.938, 9.926, 9.915, 9.904, 9.895, 9.887, 9.88, 9.873, 9.867, 9.861, 9.856, 9.852, 9.848, 9.844, 9.841, 9.838, 9.835, 9.833, 9.831, 9.829, 9.827, 9.825, 9.824, 9.822, 9.821, 9.82, 9.819, 9.818, 9.817, 9.817, 9.816, 9.815, 9.815, 9.814, 9.814, 9.814, 9.813, 9.813, 9.813, 9.812, 9.812, 9.812, 9.812, 9.812, 9.811, 9.811, 9.811, 9.811, 9.811, 9.811, 9.811, 9.811, 9.811, 9.811, 9.811, 9.81, 9.81, 9.81, 9.81, 9.81]\n"
     ]
    }
   ],
   "source": [
    "#velocity needed to solve for y-values\n",
    "v1 = [20]\n",
    "for i in range(0,2*n+2):\n",
    "    h = h1/2\n",
    "    F_1 = h*(g - (c/m)*(v1[i]))\n",
    "    F_2 = h*(g - (c/m)*(v1[i] + F_1/2))\n",
    "    F_3 = h*(g - (c/m)*(v1[i] + F_2/2))\n",
    "    F_4 = h*(g - (c/m)*(v1[i] + F3))\n",
    "    v1.append(v1[i] + (F_1 + 2*F_2 + 2*F_3 + F_4)/6)\n",
    "v1 = list(np.around(np.array(v1),r))\n",
    "print(v1)"
   ]
  },
  {
   "cell_type": "code",
   "execution_count": 10,
   "metadata": {},
   "outputs": [
    {
     "name": "stdout",
     "output_type": "stream",
     "text": [
      "[0.0, 1.903, 3.636, 5.231, 6.713, 8.102, 9.416, 10.669, 11.872, 13.034, 14.163, 15.264, 16.344, 17.405, 18.451, 19.486, 20.51, 21.527, 22.537, 23.541, 24.542, 25.538, 26.532, 27.524, 28.513, 29.501, 30.488, 31.473, 32.458, 33.442, 34.426, 35.409, 36.392, 37.374, 38.356, 39.338, 40.32, 41.301, 42.283, 43.264, 44.246, 45.227, 46.208, 47.189, 48.17, 49.152, 50.133, 51.114, 52.095, 53.076, 54.057]\n"
     ]
    }
   ],
   "source": [
    "# y-values needed for problem\n",
    "y = [0]\n",
    "for i in range(0,n):\n",
    "    F = []\n",
    "    for j in range(0,2*n,2):\n",
    "        h1 = h1\n",
    "        f1 = h*(v1[j])\n",
    "        f2 = h*(v1[j+1])\n",
    "        f4 = h*(v1[j+2])\n",
    "        F.append((f1 + 4*f2 + f4)/6)\n",
    "    y.append(y[i] + F[i])\n",
    "y = list(np.around(np.array(y),r))\n",
    "print(y)"
   ]
  },
  {
   "cell_type": "code",
   "execution_count": null,
   "metadata": {},
   "outputs": [],
   "source": []
  }
 ],
 "metadata": {
  "kernelspec": {
   "display_name": "Python 3",
   "language": "python",
   "name": "python3"
  },
  "language_info": {
   "codemirror_mode": {
    "name": "ipython",
    "version": 3
   },
   "file_extension": ".py",
   "mimetype": "text/x-python",
   "name": "python",
   "nbconvert_exporter": "python",
   "pygments_lexer": "ipython3",
   "version": "3.7.6"
  }
 },
 "nbformat": 4,
 "nbformat_minor": 4
}
