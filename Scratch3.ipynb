{
 "cells": [
  {
   "cell_type": "code",
   "execution_count": 1,
   "metadata": {},
   "outputs": [],
   "source": [
    "import numpy as np\n",
    "import matplotlib.pyplot as plt\n",
    "def AB_Predictor_Corrector(def_fn, a, b, ya, N):\n",
    "    \n",
    "    f = def_fn          #intakes function to method to approximate \n",
    "    h = (b-a)/N         #creates step size based on input values of a, b, N \n",
    "    t = np.arange(a, b+h, h) #array intialized to hold mesh points t\n",
    "    y = np.zeros((N+1,)) #array to hold Midpoint Method approximated y values\n",
    "    y[0] = ya           #intial condition \n",
    "    \n",
    "    #using fourth oreder Runge-Kutta to obtain the first 3 points\n",
    "    for i in range(0,N):\n",
    "        if i in range(0,3):\n",
    "            k1 = h * f(t[i],y[i])\n",
    "            k2 = h * f(t[i] + (h/2.0), y[i] +(k1/2.0))\n",
    "            k3 = h * f(t[i] + (h/2.0), y[i] + (k2/2.0))\n",
    "            k4 = h * f(t[i] + h, y[i] + k3)\n",
    "        \n",
    "            y[i + 1] = y[i] + (k1 + 2.0*k2 + 2.0*k3 + k4)/6.0            \n",
    "        else:           \n",
    "             y[i + 1] = y[i] + h*(55.0 * f(t[i],y[i]) - 59.0 * f(t[i-1],y[i-1]) + 37.0 * f(t[i-2],y[i-2]) - 9.0 * f(t[i-3],y[i-3]))/24.0                  \n",
    "             y[i + 1] = y[i] + h*(9.0 * f(t[i+1], y[i + 1]) + 19.0 * f(t[i],y[i]) - 5.0 * f(t[i-1],y[i-1]) + f(t[i-2],y[i-2]))/24.0  \n",
    "    print(\"v(t) =\", y)\n",
    "    print(\"t =\", t)\n",
    "    plt.plot(t,y)"
   ]
  },
  {
   "cell_type": "code",
   "execution_count": 2,
   "metadata": {},
   "outputs": [
    {
     "name": "stdout",
     "output_type": "stream",
     "text": [
      "v(t) = [20.         18.15289267 16.64060432 15.40244345 14.38859673 13.55855114\n",
      " 12.87898417 12.32261358 11.86710643 11.49417736 11.18885592 10.93888564\n",
      " 10.73423202 10.56667968 10.4295026  10.3171941  10.22524581 10.14996665\n",
      " 10.08833472 10.03787592  9.99656471  9.96274274  9.93505228  9.91238178\n",
      "  9.89382118  9.87862539  9.86618442  9.85599885  9.8476598   9.84083252\n",
      "  9.83524295  9.8306667   9.82692007  9.82385266  9.82134134  9.81928529\n",
      "  9.81760198  9.81622383  9.81509552  9.81417176  9.81341547  9.81279629\n",
      "  9.81228935  9.81187432  9.81153453  9.81125634  9.81102858  9.81084211\n",
      "  9.81068944  9.81056446  9.81046213]\n",
      "t = [ 0.   0.2  0.4  0.6  0.8  1.   1.2  1.4  1.6  1.8  2.   2.2  2.4  2.6\n",
      "  2.8  3.   3.2  3.4  3.6  3.8  4.   4.2  4.4  4.6  4.8  5.   5.2  5.4\n",
      "  5.6  5.8  6.   6.2  6.4  6.6  6.8  7.   7.2  7.4  7.6  7.8  8.   8.2\n",
      "  8.4  8.6  8.8  9.   9.2  9.4  9.6  9.8 10. ]\n"
     ]
    },
    {
     "data": {
      "image/png": "[encoded data removed]",
      "text/plain": [
       "<Figure size 432x288 with 1 Axes>"
      ]
     },
     "metadata": {
      "needs_background": "light"
     },
     "output_type": "display_data"
    }
   ],
   "source": [
    "g = 9.81\n",
    "m = 1\n",
    "c = 1\n",
    "AB_Predictor_Corrector(lambda t,v: g-(c/m)*v, 0,10,20,50)"
   ]
  },
  {
   "cell_type": "code",
   "execution_count": 3,
   "metadata": {},
   "outputs": [],
   "source": [
    "# def AB_Predictor_Corrector_for_y(def_fn, a, b, ya, N):\n",
    "    \n",
    "#     f = def_fn          #intakes function to method to approximate \n",
    "#     h = (b-a)/N         #creates step size based on input values of a, b, N \n",
    "#     t = np.arange(a, b+h, h) #array intialized to hold mesh points t\n",
    "#     y = np.zeros((N+1,)) #array to hold Midpoint Method approximated y values\n",
    "#     y[0] = ya           #intial condition \n",
    "    \n",
    "#     #using fourth oreder Runge-Kutta to obtain the first 3 points\n",
    "#     for i in range(0,N):\n",
    "#         for j in range(0,2*N+2):\n",
    "#             k1 = h/2 * f(t[i],y[i])\n",
    "#             k2 = h/2 * f(t[i] + (h/2.0), y[i] +(k1/2.0))\n",
    "#             k3 = h/2 * f(t[i] + (h/2.0), y[i] + (k2/2.0))\n",
    "#             k4 = h/2 * f(t[i] + h, y[i] + k3)\n",
    "\n",
    "#             y[i + 1] = y[i] + (k1 + 2.0*k2 + 2.0*k3 + k4)/6.0            \n",
    "       \n",
    "#     print(\"v(t) =\", y)\n",
    "#     print(\"t =\", t)\n",
    "#     plt.plot(t,y)"
   ]
  },
  {
   "cell_type": "code",
   "execution_count": 4,
   "metadata": {},
   "outputs": [
    {
     "name": "stdout",
     "output_type": "stream",
     "text": [
      "v(t) = [20, 17.96, 16.328, 15.0224, 13.97792, 13.142336, 12.4738688, 11.93909504, 11.511276032, 11.1690208256, 10.895216660480001, 10.676173328384001, 10.5009386627072, 10.36075093016576, 10.24860074413261, 10.158880595306087, 10.08710447624487, 10.029683580995895, 9.983746864796716, 9.946997491837372, 9.917597993469897, 9.894078394775917, 9.875262715820734, 9.860210172656586, 9.848168138125269, 9.838534510500216, 9.830827608400172, 9.824662086720139, 9.81972966937611, 9.815783735500888, 9.81262698840071, 9.810101590720569, 9.808081272576455, 9.806465018061164, 9.805172014448932, 9.804137611559145, 9.803310089247317, 9.802648071397854, 9.802118457118283, 9.801694765694627, 9.801355812555702, 9.801084650044562, 9.800867720035649, 9.80069417602852, 9.800555340822816, 9.800444272658254, 9.800355418126603, 9.800284334501283, 9.800227467601026, 9.800181974080822, 9.800145579264658, 9.800116463411726]\n",
      "y(t) = [0, 3.7960000000000003, 7.2248, 10.35984, 13.259872, 15.9718976, 18.53351808, 20.974814464, 23.3198515712, 25.58788125696, 27.794305005568, 29.951444004454398, 32.06915520356352, 34.15532416285082, 36.21625933028066, 38.25700746422453, 40.281605971379626, 42.2932847771037, 44.29462782168296, 46.28770225734637, 48.27416180587709, 50.25532944470167, 52.232263555761335, 54.20581084460907, 56.176648675687254, 58.1453189405498, 60.112255152439836, 62.077804121951864, 64.04224329756148, 66.00579463804918, 67.96863571043934, 69.93090856835147, 71.89272685468117, 73.85418148374494, 75.81534518699594, 77.77627614959675, 79.7370209196774, 81.69761673574192, 83.65809338859353, 85.61847471087482, 87.57877976869986, 89.53902381495989, 91.49921905196791, 93.45937524157434, 95.41950019325947, 97.37960015460757, 99.33968012368607, 101.29974409894885, 103.25979527915908, 105.21983622332726, 107.17986897866182, 109.13989518292945]\n"
     ]
    },
    {
     "data": {
      "text/plain": [
       "[<matplotlib.lines.Line2D at 0x7f2fcb702090>]"
      ]
     },
     "execution_count": 4,
     "metadata": {},
     "output_type": "execute_result"
    },
    {
     "data": {
      "image/png": "[encoded data removed]",
      "text/plain": [
       "<Figure size 432x288 with 1 Axes>"
      ]
     },
     "metadata": {
      "needs_background": "light"
     },
     "output_type": "display_data"
    }
   ],
   "source": [
    "h1 = 0.2\n",
    "h2 = 0.5\n",
    "h3 = 0.1\n",
    "a = 0\n",
    "b = 10\n",
    "N = int((b-a)/h1)\n",
    "def g1(v):\n",
    "    g = 9.8\n",
    "    return g-v\n",
    "v0 = [20]\n",
    "t0 = [0]\n",
    "y0 = [0]\n",
    "\n",
    "for i in range(N+1):\n",
    "    v1 = v0[i] + h1*g1(v0[i])\n",
    "    v0.append(v1)\n",
    "    t0.append(t0[i]+h1)\n",
    "print(\"v(t) =\", v0)\n",
    "plt.plot(t0,v0)\n",
    "\n",
    "for j in range(N+1):\n",
    "    y1 = y0[j] + (h1/2)*(v0[j] + v0[j+1])\n",
    "    y0.append(y1)\n",
    "print(\"y(t) =\", y0)\n",
    "plt.plot(t0,y0)\n",
    "   \n",
    "\n"
   ]
  },
  {
   "cell_type": "code",
   "execution_count": null,
   "metadata": {},
   "outputs": [],
   "source": []
  }
 ],
 "metadata": {
  "kernelspec": {
   "display_name": "Python 3",
   "language": "python",
   "name": "python3"
  },
  "language_info": {
   "codemirror_mode": {
    "name": "ipython",
    "version": 3
   },
   "file_extension": ".py",
   "mimetype": "text/x-python",
   "name": "python",
   "nbconvert_exporter": "python",
   "pygments_lexer": "ipython3",
   "version": "3.7.6"
  }
 },
 "nbformat": 4,
 "nbformat_minor": 4
}
