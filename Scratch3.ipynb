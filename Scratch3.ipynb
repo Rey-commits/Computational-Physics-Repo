{
 "cells": [
  {
   "cell_type": "code",
   "execution_count": 1,
   "metadata": {},
   "outputs": [],
   "source": [
    "import numpy as np\n",
    "import matplotlib.pyplot as plt\n",
    "def AB_Predictor_Corrector(def_fn, a, b, ya, N):\n",
    "    \n",
    "    f = def_fn          #intakes function to method to approximate \n",
    "    h = (b-a)/N         #creates step size based on input values of a, b, N \n",
    "    t = np.arange(a, b+h, h) #array intialized to hold mesh points t\n",
    "    y = np.zeros((N+1,)) #array to hold Midpoint Method approximated y values\n",
    "    y[0] = ya           #intial condition \n",
    "    \n",
    "    #using fourth oreder Runge-Kutta to obtain the first 3 points\n",
    "    for i in range(0,N):\n",
    "        if i in range(0,3):\n",
    "            k1 = h * f(t[i],y[i])\n",
    "            k2 = h * f(t[i] + (h/2.0), y[i] +(k1/2.0))\n",
    "            k3 = h * f(t[i] + (h/2.0), y[i] + (k2/2.0))\n",
    "            k4 = h * f(t[i] + h, y[i] + k3)\n",
    "        \n",
    "            y[i + 1] = y[i] + (k1 + 2.0*k2 + 2.0*k3 + k4)/6.0            \n",
    "        else:           \n",
    "             y[i + 1] = y[i] + h*(55.0 * f(t[i],y[i]) - 59.0 * f(t[i-1],y[i-1]) + 37.0 * f(t[i-2],y[i-2]) - 9.0 * f(t[i-3],y[i-3]))/24.0                  \n",
    "             y[i + 1] = y[i] + h*(9.0 * f(t[i+1], y[i + 1]) + 19.0 * f(t[i],y[i]) - 5.0 * f(t[i-1],y[i-1]) + f(t[i-2],y[i-2]))/24.0  \n",
    "    print(\"v(t) =\", y)\n",
    "    print(\"t =\", t)\n",
    "    plt.plot(t,y)"
   ]
  },
  {
   "cell_type": "code",
   "execution_count": 2,
   "metadata": {},
   "outputs": [
    {
     "name": "stdout",
     "output_type": "stream",
     "text": [
      "v(t) = [20.         18.15289267 16.64060432 15.40244345 14.38859673 13.55855114\n",
      " 12.87898417 12.32261358 11.86710643 11.49417736 11.18885592 10.93888564\n",
      " 10.73423202 10.56667968 10.4295026  10.3171941  10.22524581 10.14996665\n",
      " 10.08833472 10.03787592  9.99656471  9.96274274  9.93505228  9.91238178\n",
      "  9.89382118  9.87862539  9.86618442  9.85599885  9.8476598   9.84083252\n",
      "  9.83524295  9.8306667   9.82692007  9.82385266  9.82134134  9.81928529\n",
      "  9.81760198  9.81622383  9.81509552  9.81417176  9.81341547  9.81279629\n",
      "  9.81228935  9.81187432  9.81153453  9.81125634  9.81102858  9.81084211\n",
      "  9.81068944  9.81056446  9.81046213]\n",
      "t = [ 0.   0.2  0.4  0.6  0.8  1.   1.2  1.4  1.6  1.8  2.   2.2  2.4  2.6\n",
      "  2.8  3.   3.2  3.4  3.6  3.8  4.   4.2  4.4  4.6  4.8  5.   5.2  5.4\n",
      "  5.6  5.8  6.   6.2  6.4  6.6  6.8  7.   7.2  7.4  7.6  7.8  8.   8.2\n",
      "  8.4  8.6  8.8  9.   9.2  9.4  9.6  9.8 10. ]\n"
     ]
    },
    {
     "data": {
      "image/png": "[encoded data removed]",
      "text/plain": [
       "<Figure size 432x288 with 1 Axes>"
      ]
     },
     "metadata": {
      "needs_background": "light"
     },
     "output_type": "display_data"
    }
   ],
   "source": [
    "g = 9.81\n",
    "m = 1\n",
    "c = 1\n",
    "AB_Predictor_Corrector(lambda t,v: g-(c/m)*v, 0,10,20,50)"
   ]
  },
  {
   "cell_type": "code",
   "execution_count": 3,
   "metadata": {},
   "outputs": [],
   "source": [
    "# def Predictor_Corrector_for_y(def_fn, a, b, ya, N):\n",
    "#     f = def_fn          #intakes function to method to approximate \n",
    "#     h = (b-a)/N         #creates step size based on input values of a, b, N \n",
    "#     t = np.arange(a, b+h, h) #array intialized to hold mesh points t\n",
    "#     y = np.zeros((N+1,)) #array to hold Midpoint Method approximated y values\n",
    "#     y[0] = ya           #intial condition \n",
    "    \n",
    "#     for i in range(0,2*N+2):\n",
    "#         k1 = h * f(t[i],y[i])\n",
    "#         k2 = h * f(t[i] + (h/2.0), y[i] +(k1/2.0))\n",
    "#         k3 = h * f(t[i] + (h/2.0), y[i] + (k2/2.0))\n",
    "#         k4 = h * f(t[i] + h, y[i] + k3)\n",
    "        \n",
    "#         y[i + 1] = y[i] + (k1 + 2.0*k2 + 2.0*k3 + k4)/6.0 \n",
    "        "
   ]
  },
  {
   "cell_type": "code",
   "execution_count": 4,
   "metadata": {},
   "outputs": [],
   "source": [
    "# Predictor_Corrector_for_y(lambda t,v: g-(c/m)*v, 0,10,20,50)"
   ]
  },
  {
   "cell_type": "code",
   "execution_count": null,
   "metadata": {},
   "outputs": [],
   "source": [
    "AB_Predictor_Corrector(lambda t,v: g-(c/m)*v, 0,10,20,50)"
   ]
  }
 ],
 "metadata": {
  "kernelspec": {
   "display_name": "Python 3",
   "language": "python",
   "name": "python3"
  },
  "language_info": {
   "codemirror_mode": {
    "name": "ipython",
    "version": 3
   },
   "file_extension": ".py",
   "mimetype": "text/x-python",
   "name": "python",
   "nbconvert_exporter": "python",
   "pygments_lexer": "ipython3",
   "version": "3.7.6"
  }
 },
 "nbformat": 4,
 "nbformat_minor": 4
}
