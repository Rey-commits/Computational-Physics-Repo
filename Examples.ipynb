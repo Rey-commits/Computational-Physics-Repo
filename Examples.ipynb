{
 "cells": [
  {
   "cell_type": "code",
   "execution_count": 8,
   "metadata": {},
   "outputs": [
    {
     "name": "stdout",
     "output_type": "stream",
     "text": [
      "The value of y at x is: 16.421720367096217\n"
     ]
    }
   ],
   "source": [
    "# Python program to implement Runge Kutta method \n",
    "# A sample differential equation \"dy / dx = (x - y)/2\" \n",
    "m = 68.1\n",
    "c = 12.5\n",
    "g = 9.81\n",
    "def dydx(t, y): \n",
    "\treturn (g-(c/m)*y) \n",
    "\n",
    "# Finds value of y for a given x using step size h \n",
    "# and initial value y0 at x0. \n",
    "def rungeKutta(x0, y0, x, h): \n",
    "\t# Count number of iterations using step size or \n",
    "\t# step height h \n",
    "\tn = (int)((x - x0)/h) \n",
    "\t# Iterate for number of iterations \n",
    "\ty = y0 \n",
    "\tfor i in range(1, n + 1): \n",
    "\t\t\"Apply Runge Kutta Formulas to find next value of y\"\n",
    "\t\tk1 = h * dydx(x0, y) \n",
    "\t\tk2 = h * dydx(x0 + 0.5 * h, y + 0.5 * k1) \n",
    "\t\tk3 = h * dydx(x0 + 0.5 * h, y + 0.5 * k2) \n",
    "\t\tk4 = h * dydx(x0 + h, y + k3) \n",
    "\n",
    "\t\t# Update next value of y \n",
    "\t\ty = y + (1.0 / 6.0)*(k1 + 2 * k2 + 2 * k3 + k4) \n",
    "\n",
    "\t\t# Update next value of x \n",
    "\t\tx0 = x0 + h \n",
    "\treturn y \n",
    "\n",
    "# Driver method \n",
    "x0 = 0\n",
    "y = 0\n",
    "x = 2\n",
    "h = 0.2\n",
    "print('The value of y at x is:', rungeKutta(x0, y, x, h)) \n",
    "\n",
    "# This code is contributed by Prateek Bhindwar \n"
   ]
  },
  {
   "cell_type": "code",
   "execution_count": null,
   "metadata": {},
   "outputs": [],
   "source": []
  }
 ],
 "metadata": {
  "kernelspec": {
   "display_name": "Python 3",
   "language": "python",
   "name": "python3"
  },
  "language_info": {
   "codemirror_mode": {
    "name": "ipython",
    "version": 3
   },
   "file_extension": ".py",
   "mimetype": "text/x-python",
   "name": "python",
   "nbconvert_exporter": "python",
   "pygments_lexer": "ipython3",
   "version": "3.7.6"
  }
 },
 "nbformat": 4,
 "nbformat_minor": 4
}
