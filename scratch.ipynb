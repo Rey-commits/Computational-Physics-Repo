{
 "cells": [
  {
   "cell_type": "code",
   "execution_count": 7,
   "metadata": {},
   "outputs": [
    {
     "name": "stdout",
     "output_type": "stream",
     "text": [
      "k1 = -2.04\n",
      "k1 = -1.9379999999999997\n",
      "k3 = -1.8927375\n"
     ]
    }
   ],
   "source": [
    "c = 1\n",
    "m = 1\n",
    "g = 9.8\n",
    "\n",
    "k1 = 0.2*(g -(c/m)*20)\n",
    "print(\"k1 =\", k1)\n",
    "k2 = 0.2*(g -(c/m)*(20+k1/4))\n",
    "print(\"k1 =\", k2)\n",
    "k3 = 0.2*(g -(c/m)*(20 + (3*k1/32) + (9*k2/32)))\n",
    "print(\"k3 =\", k3)\n",
    "          "
   ]
  },
  {
   "cell_type": "code",
   "execution_count": null,
   "metadata": {},
   "outputs": [],
   "source": []
  },
  {
   "cell_type": "code",
   "execution_count": null,
   "metadata": {},
   "outputs": [],
   "source": []
  }
 ],
 "metadata": {
  "kernelspec": {
   "display_name": "Python 3",
   "language": "python",
   "name": "python3"
  },
  "language_info": {
   "codemirror_mode": {
    "name": "ipython",
    "version": 3
   },
   "file_extension": ".py",
   "mimetype": "text/x-python",
   "name": "python",
   "nbconvert_exporter": "python",
   "pygments_lexer": "ipython3",
   "version": "3.7.6"
  }
 },
 "nbformat": 4,
 "nbformat_minor": 4
}
