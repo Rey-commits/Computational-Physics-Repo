{
 "cells": [
  {
   "cell_type": "code",
   "execution_count": 13,
   "metadata": {},
   "outputs": [
    {
     "name": "stdout",
     "output_type": "stream",
     "text": [
      "v0(0) = 0\n",
      "v1(0.2) = 1.9620000000000002\n",
      "v2(0.2) = 1.9259867841409695\n",
      "v3(0.2) = 1.925105403429784\n"
     ]
    }
   ],
   "source": [
    "from __future__ import division\n",
    "from math import exp \n",
    "\n",
    "m = 68.1\n",
    "c = 12.5\n",
    "g = 9.81\n",
    "\n",
    "# from third iteration\n",
    "print(\"v0(0) = 0\")\n",
    "def v1(x):\n",
    "    V1 = g*x\n",
    "    return V1\n",
    "print(\"v1(0.2) =\", v1(0.2))\n",
    "\n",
    "def v2(x):\n",
    "    V2 = g*(x-(c/m)*(x**2 /2))\n",
    "    return V2\n",
    "print(\"v2(0.2) =\", v2(0.2))\n",
    "\n",
    "def v3(x):\n",
    "    V3 = g*(x-((c/m)*(x**2 /2))-((c/m)**2)*(x**3 / 3))\n",
    "    return V3\n",
    "print(\"v3(0.2) =\", v3(0.2))"
   ]
  },
  {
   "cell_type": "code",
   "execution_count": null,
   "metadata": {},
   "outputs": [],
   "source": []
  },
  {
   "cell_type": "code",
   "execution_count": null,
   "metadata": {},
   "outputs": [],
   "source": []
  }
 ],
 "metadata": {
  "kernelspec": {
   "display_name": "Python 3",
   "language": "python",
   "name": "python3"
  },
  "language_info": {
   "codemirror_mode": {
    "name": "ipython",
    "version": 3
   },
   "file_extension": ".py",
   "mimetype": "text/x-python",
   "name": "python",
   "nbconvert_exporter": "python",
   "pygments_lexer": "ipython3",
   "version": "3.7.6"
  }
 },
 "nbformat": 4,
 "nbformat_minor": 4
}
